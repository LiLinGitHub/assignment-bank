{
 "metadata": {
  "name": "",
  "signature": "sha256:333eff680eb12f53ff6258a79e1d9bfff066923c1575bdc2e19f3ea936d6d27a"
 },
 "nbformat": 3,
 "nbformat_minor": 0,
 "worksheets": [
  {
   "cells": [
    {
     "cell_type": "heading",
     "level": 1,
     "metadata": {},
     "source": [
      "Leapfrog and Poisson Equation in 3D Cylindrical Coordinates with a Simplified Hall Thruster Model of Plasma Simulation"
     ]
    },
    {
     "cell_type": "heading",
     "level": 2,
     "metadata": {},
     "source": [
      "Part I - leapfrog and Poisson equation in 1D and 2D"
     ]
    },
    {
     "cell_type": "heading",
     "level": 3,
     "metadata": {},
     "source": [
      "Greetings! In this notebook, you will we are going to show you an application of leapfrog in 3D cylindrical coordinates with an example of plasma simulation: a simplified hall thruster. Don\u2019t worry about it if you don\u2019t know much plasma physics. The notebook also includes a plasma physics review. \n",
      "\n",
      "First, we begin with a 1D leapfrog example. Let\u2019s say we have two electrodes with a gap width of d, and we apply a voltage difference U on them. Now, if there is an electron released at the cathode, how to find the position function $x(t)$ of it? Based on the equations that"
     ]
    },
    {
     "cell_type": "heading",
     "level": 3,
     "metadata": {},
     "source": [
      "\\begin{equation}\n",
      "m\\frac{d\\mathbf{v}}{dt} = \\mathbf{F}\\\\\n",
      "\\frac{d\\mathbf{x}}{dt} = \\mathbf{v}\\\\\n",
      "\\mathbf{F} = q\\mathbf{E}\\\\\n",
      "\\end{equation}"
     ]
    },
    {
     "cell_type": "heading",
     "level": 3,
     "metadata": {},
     "source": [
      "where $E$ is the electrostatic field and $q$ is the charge of that particle."
     ]
    },
    {
     "cell_type": "heading",
     "level": 3,
     "metadata": {},
     "source": [
      "We have to find the distribution of the electrostatic field (E field), and then the electrostatic force for that particle, and finally, $x(t)$.\\\\In plasma simulation, it is common to apply leapfrog on not only the velocity and displacement but also the E field and other parameters. Such a \"leapfrog\" is called Particle in Cell (PIC) method."
     ]
    },
    {
     "cell_type": "code",
     "collapsed": false,
     "input": [
      "Embed = Image(url = 'https://github.com/LiLinGitHub/FinalProjectFiles/blob/master/leapfrog1.bmp')"
     ],
     "language": "python",
     "metadata": {},
     "outputs": [],
     "prompt_number": 14
    },
    {
     "cell_type": "code",
     "collapsed": false,
     "input": [
      "Embed = Image(url = 'https://github.com/LiLinGitHub/FinalProjectFiles/blob/master/PIC.bmp')"
     ],
     "language": "python",
     "metadata": {},
     "outputs": [],
     "prompt_number": 13
    },
    {
     "cell_type": "heading",
     "level": 3,
     "metadata": {},
     "source": [
      "However, in actual cases, we always have massive charged particles, which means each of them has an E field to effect others and their movement can create magnetic field (B field). Thus, for such a complicate situation, the only way to solve the Poisson\u2019s equation, that"
     ]
    },
    {
     "cell_type": "heading",
     "level": 3,
     "metadata": {},
     "source": [
      "\\begin{equation}\n",
      "\\nabla^2\\phi = \\frac{(n_i-n_e)e}{\\epsilon}\\\\\n",
      "\\end{equation}"
     ]
    },
    {
     "cell_type": "heading",
     "level": 3,
     "metadata": {},
     "source": [
      "where $\\phi$ is the potential, $n_i$ and $n_e$ are the density of ions and electrons, $e$ is the charge of an electron, and $\\epsilon$ is the permittivity. "
     ]
    },
    {
     "cell_type": "heading",
     "level": 3,
     "metadata": {},
     "source": [
      "Obviously, we have no ion in this case, and for 1D Poisson equation, we can easily solve it in this way:"
     ]
    },
    {
     "cell_type": "heading",
     "level": 3,
     "metadata": {},
     "source": [
      "\\begin{equation}\n",
      "\\frac{\\phi_{i-1}-2\\phi_i+\\phi_{i+1}}{(\\Delta x)^2} = \\frac{(n_i-n_e)e}{\\epsilon}\\\\\n",
      "E_{i+\\frac12} = -\\frac{\\phi_{i+1}-\\phi_i}{2\\Delta x}\\\\\n",
      "\\end{equation}"
     ]
    },
    {
     "cell_type": "heading",
     "level": 3,
     "metadata": {},
     "source": [
      "At the time we obtain $E$, the 1D leapfrog for $x(t)$ is merely:"
     ]
    },
    {
     "cell_type": "heading",
     "level": 3,
     "metadata": {},
     "source": [
      "\\begin{equation}\n",
      "m\\frac{\\mathbf{v}_{n+\\frac12}-\\mathbf{v}_{n-\\frac12}}{\\Delta t} = \\mathbf{F}_n\\\\\n",
      "\\frac{\\mathbf{x}_{n+1}-\\mathbf{x}_n}{\\Delta t} = \\mathbf{v}_{n+\\frac12}\\\\\n",
      "\\end{equation}"
     ]
    },
    {
     "cell_type": "heading",
     "level": 3,
     "metadata": {},
     "source": [
      "Okay, now, let's proceed to 2D. Ready?"
     ]
    },
    {
     "cell_type": "code",
     "collapsed": false,
     "input": [
      "Embed = Image(url = 'https://github.com/LiLinGitHub/FinalProjectFiles/blob/master/PIC2.bmp')"
     ],
     "language": "python",
     "metadata": {},
     "outputs": [],
     "prompt_number": 12
    },
    {
     "cell_type": "heading",
     "level": 3,
     "metadata": {},
     "source": [
      "In order to solve this problem, we have to intoduce the 5 points finite difference method to calculate $\\phi$ and $E$ at and between these grid points. Although a 2D problem is a little bit more complicate, we are luckily have one more equation available which connects $E$ and charge density: Gauss' law. In this case, it can be written as"
     ]
    },
    {
     "cell_type": "heading",
     "level": 3,
     "metadata": {},
     "source": [
      "\\begin{equation}\n",
      "\\Sigma q = EA\\\\\n",
      "\\end{equation}"
     ]
    },
    {
     "cell_type": "heading",
     "level": 3,
     "metadata": {},
     "source": [
      "where $A$ is the surfave area around the total charge $\\Sigma q$."
     ]
    },
    {
     "cell_type": "heading",
     "level": 3,
     "metadata": {},
     "source": [
      "So, let's try to find $\\phi$ and $E$ based on this equation. We denote the density as $\\rho$."
     ]
    },
    {
     "cell_type": "heading",
     "level": 3,
     "metadata": {},
     "source": [
      "\\begin{equation}\n",
      "\\rho_{i,j}\\pi(\\Delta x)_i^2\\Delta x_j = 2\\pi x_{i+\\frac12}\\Delta x_j E_{i+\\frac12,j}-2\\pi x_{i-\\frac12}\\Delta x_j\\\n",
      "E_{i-\\frac12,j}+\\pi(x_{i+\\frac12}^2-x_{i-\\frac12}^2)(E_{i,j+\\frac12}-E_{i,j-\\frac12})\\\\\n",
      "E_{i,j+\\frac12} = -\\frac{\\phi_{i,j+1}-\\phi_{i,j}}{\\Delta z}\\\\\n",
      "\\end{equation}"
     ]
    },
    {
     "cell_type": "heading",
     "level": 3,
     "metadata": {},
     "source": [
      "We finally obtain [1]"
     ]
    },
    {
     "cell_type": "heading",
     "level": 3,
     "metadata": {},
     "source": [
      "\\begin{equation}\n",
      "\\rho_{i,j} = -\\frac{2x_{i+\\frac12}}{(\\Delta x)^2_i\\Delta x_{i+\\frac12}}(\\phi_{i+1,j}-\\phi_{i,j})\\\\\n",
      "+\\frac{2x_{i-\\frac12}}{(\\Delta x)^2_i\\Delta x_{i-\\frac12}}(\\phi_{i,j}-\\phi_{i-1,j})\\\\\n",
      "-\\frac{1}{\\Delta z^2}(\\phi_{i,j+1}-2\\phi_{i,j}+\\phi_{i,j-1})\\\\\n",
      "\\end{equation}"
     ]
    },
    {
     "cell_type": "heading",
     "level": 3,
     "metadata": {},
     "source": [
      "and this ugly equation can be solved by building matirx which will be shown in Part II.\n"
     ]
    },
    {
     "cell_type": "heading",
     "level": 3,
     "metadata": {},
     "source": [
      "The equations above are a little crazy but we have a more complicate case. The grid diagram of polar coordinates is given bellow. The process is exactly same as the previous one. I left this problem for you to solve. "
     ]
    },
    {
     "cell_type": "code",
     "collapsed": false,
     "input": [
      "Embed = Image(url = 'https://github.com/LiLinGitHub/FinalProjectFiles/blob/master/PIC2P.bmp')"
     ],
     "language": "python",
     "metadata": {},
     "outputs": [],
     "prompt_number": 11
    },
    {
     "cell_type": "heading",
     "level": 3,
     "metadata": {},
     "source": [
      "Did you get it? The answer is bellow. [1]"
     ]
    },
    {
     "cell_type": "heading",
     "level": 3,
     "metadata": {},
     "source": [
      "\\begin{equation}\n",
      "\\rho_{i,j} = -\\frac{2r_{i+\\frac12}}{\\Delta r_{i+\\frac12}}(\\phi_{i+1,j}-\\phi_{i,j})\\\\\n",
      "+\\frac{2r_{i-\\frac12}}{\\Delta r_{i-\\frac12}}(\\phi_{i,j}-\\phi_{i-1,j})\\\\\n",
      "-\\frac{2r_i}{(\\Delta \\theta)^2r_i}(\\phi_{i,j+1}-2\\phi_{i,j}+\\phi_{i,j-1})\\\\\n",
      "\\end{equation}"
     ]
    },
    {
     "cell_type": "heading",
     "level": 2,
     "metadata": {},
     "source": [
      "Part II - Cylindrical Coordinates and a Hall Thruster Simulation"
     ]
    },
    {
     "cell_type": "heading",
     "level": 3,
     "metadata": {},
     "source": [
      "Based on the previous study of 2D situations, now we are ready to approach to 3D. To help you understand, the hall thruster simulation will be present to you as an example. We are going to study how to apply leapfrog in cylingdrical coordinates and how to solve Poisson equation in that case."
     ]
    },
    {
     "cell_type": "heading",
     "level": 3,
     "metadata": {},
     "source": [
      "Okay, first question: what is hall thruster?"
     ]
    },
    {
     "cell_type": "heading",
     "level": 3,
     "metadata": {},
     "source": [
      "During the cold war, both US and Russian scientists got an new idea of electric propulsion, named hall thruster. The thruster is a milli-newton scale electric rocket and a fine satellite engine. In order to produce thrust, electrons are attracted into the thruster chamber and captured by external B field. Because of the Lorentz force, electrons are compelled to go into circles which are so called \u201chall current\u201d. On the other hand, $Xe$ gas (commonly choose $Xe$ as the fuel, since its low ionization energy) is emitted at the bottom of chamber. When the gas molecules passing through the hall current, there are extremely high possibility of them to be ionized by the collision with electrons. Since the mass of a $Xe$ ion is much greater than the mass of an electron, such a particle may almost keep its original velocity during the collision. The value of B is carefully chosen by the equation of Larmor Radius:"
     ]
    },
    {
     "cell_type": "heading",
     "level": 3,
     "metadata": {},
     "source": [
      "\\begin{equation}\n",
      "r = \\frac{mv}{qB}\\\\\n",
      "\\end{equation}"
     ]
    },
    {
     "cell_type": "heading",
     "level": 3,
     "metadata": {},
     "source": [
      "Note that, the velocity $v$ here is the prependicular components to $B$. Using this equation, we make sure that only light weight charged particles, like electrons, are effected by the magnets, while heavy particles, like ions, keep heading on their original direction. At the outside of the exit, electrons are emitted to neutralize the ions. If not, the spacecraft will get net charges as a result of generating extra ions. The ions are accelerated by the electrons outside and mixed with the electrons to produce thrust."
     ]
    },
    {
     "cell_type": "code",
     "collapsed": false,
     "input": [
      "Embed = Image(url = 'http://en.wikipedia.org/wiki/Hall_effect_thruster#mediaviewer/File:Wfm_hall_thruster.svg')"
     ],
     "language": "python",
     "metadata": {},
     "outputs": [],
     "prompt_number": 10
    },
    {
     "cell_type": "heading",
     "level": 3,
     "metadata": {},
     "source": [
      "Now, let's go through the code. First, the definations of variables."
     ]
    },
    {
     "cell_type": "code",
     "collapsed": false,
     "input": [
      "#3D cylindrical coodinates\n",
      "#Sinplified hall thruster channel, particle trajectory simulation\n",
      "import numpy\n",
      "from numpy import matrix\n",
      "from numpy import linalg\n",
      "import matplotlib.pyplot as plt\n",
      "import mpl_toolkits.mplot3d.axes3d as p3\n",
      "\n",
      "#Constants\n",
      "PI = 3.1415926\n",
      "epsilon = 8.854*10**(12) #)vacuum permittivity\n",
      "mu = 4*pi*1*10**(-7) #vacuum permeability\n",
      "e = -1*1.6*10**(-19) #electron charge\n",
      "v_initial = (10,0,0)\n",
      "na_initial = 1*10**17\n",
      "me = 9.1*10**(-31)\n",
      "ma = 131.293*1.66*10**(-27)\n",
      "mi = ma-me\n",
      "\n",
      "#structure\n",
      "Rout = 0.25\n",
      "Rin = 0.05\n",
      "L = 0.3 #thruster length\n",
      "L = L*1.2 #grid length\n",
      "dtheta = 10\n",
      "dr = 0.01\n",
      "dx = dr\n",
      "dt = 2*10**(-3)# should be -12\n",
      "nr = int((Rout-Rin)/dr)\n",
      "nx = int(L/dx)\n",
      "ntheta = int(360/dtheta) \n",
      "print \"nx = ,nr = , ntheta = \"\n",
      "print nx, nr, ntheta\n",
      "p = 0 #total particle number\n",
      "\n",
      "pmax = 2000 #max particle number\n",
      "t = 60\n",
      "nt = int(t/dt)\n",
      "print \"nt = \", nt\n",
      "\n",
      "#Array and matrix\n",
      "pp = numpy.zeros ((pmax,9)) #particle properties: charge, mass, vx,vr,vtheta, x,r,theta, new particle (=0) or not\n",
      "ne = numpy.zeros ((nx,nr,ntheta)) #electron density\n",
      "ni = numpy.zeros ((nx,nr,ntheta)) #Xe ion density\n",
      "na = numpy.zeros ((nx,nr,ntheta)) #Xe atom density\n",
      "E = numpy.zeros ((nx,nr,ntheta)) #E field\n",
      "Ex = numpy.zeros ((nx,nr,ntheta)) #E field x component\n",
      "Er = numpy.zeros ((nx,nr,ntheta)) #E field r component\n",
      "Etheta = numpy.zeros ((nx,nr,ntheta)) #E field theta component\n",
      "phi = numpy.zeros ((nx,nr,ntheta)) #E field potential\n",
      "phix = numpy.zeros ((nx,nr,ntheta)) #E field potential from E field x component\n",
      "phir = numpy.zeros ((nx,nr,ntheta)) #E field potential from E field r component\n",
      "phitheta = numpy.zeros ((nx,nr,ntheta)) #E field potential from E field theta component\n",
      "B = numpy.zeros ((nx,nr,ntheta)) #B field\n",
      "Bx = numpy.zeros ((nx,nr,ntheta)) #B field x component\n",
      "Br = numpy.zeros ((nx,nr,ntheta)) #B field r component \n",
      "Btheta = numpy.zeros ((nx,nr,ntheta)) #B field theta component\n",
      "j = numpy.zeros ((nx,nr,ntheta)) #current density\n",
      "\n",
      "ri = 90 #ionization rate\n",
      "sigma = dr #assume all collision redius = 216pm\n",
      "ex = numpy.zeros (pmax)\n",
      "ey = numpy.zeros (pmax)\n",
      "ez = numpy.zeros (pmax)\n",
      "ix = numpy.zeros (pmax)\n",
      "iy = numpy.zeros (pmax)\n",
      "iz = numpy.zeros (pmax)\n",
      "atx = numpy.zeros (pmax)\n",
      "aty = numpy.zeros (pmax)\n",
      "atz = numpy.zeros (pmax)"
     ],
     "language": "python",
     "metadata": {},
     "outputs": [
      {
       "output_type": "stream",
       "stream": "stdout",
       "text": [
        "nx = ,nr = , ntheta = \n",
        "36 20 36\n",
        "nt =  30000\n"
       ]
      }
     ],
     "prompt_number": 109
    },
    {
     "cell_type": "heading",
     "level": 3,
     "metadata": {},
     "source": [
      "Yes, that was a lot. Next, the matrixes to solve Poisson equation in 3D. I strongly recommend you to print it out. It will be helpful when you are trying to understand the incoming solving process."
     ]
    },
    {
     "cell_type": "code",
     "collapsed": false,
     "input": [
      "Ar = numpy.matrix(numpy.identity(nr-2))\n",
      "Ar = Ar*2\n",
      "for k in range (0,nr-3):\n",
      "    Ar[k,k+1] = 1\n",
      "for k in range (1,nr-2):\n",
      "    Ar[k,k-1] = 1\n",
      "        \n",
      "Ar2 = numpy.zeros((nr-2,nr-2))\n",
      "for k in range (0,nr-3):\n",
      "    Ar2[k,k+1] = 1\n",
      "for k2 in range (1,nr-2):\n",
      "    Ar2[k,k-1] = -1\n",
      "    \n",
      "Atheta = numpy.matrix(numpy.identity(ntheta-2))\n",
      "Atheta = Atheta*2\n",
      "for k in range (0,ntheta-3):\n",
      "    Atheta[k,k+1] = 1\n",
      "for k in range (1,ntheta-2):\n",
      "    Atheta[k,k-1] = 1\n",
      "    \n",
      "Ax = numpy.matrix(numpy.identity(nx-2))\n",
      "Ax = Ax*2\n",
      "for k in range (0,nx-3):\n",
      "    Ax[k,k+1] = 1\n",
      "for k in range (1,nx-2):\n",
      "    Ax[k,k-1] = 1"
     ],
     "language": "python",
     "metadata": {},
     "outputs": [],
     "prompt_number": 110
    },
    {
     "cell_type": "heading",
     "level": 3,
     "metadata": {},
     "source": [
      "Last thing to define (or initialize): the magnets in that thruster model."
     ]
    },
    {
     "cell_type": "code",
     "collapsed": false,
     "input": [
      "#Initialize B field\n",
      "phim = 0.01 #magnetic flux of magnets\n",
      "B = numpy.zeros ((nx,nr,ntheta))\n",
      "B_magnet = numpy.zeros ((nx,nr,ntheta))\n",
      "for r in range (1,nr):\n",
      "    B_magnet[int(nx*4/10):int(nx*7/10),r,:] = phim/(PI*r**2*dx)\n",
      "    #print B_magnet[int(nx/10):int(nx*9/10),r,:]\n",
      "B = B+B_magnet"
     ],
     "language": "python",
     "metadata": {},
     "outputs": [],
     "prompt_number": 111
    },
    {
     "cell_type": "heading",
     "level": 3,
     "metadata": {},
     "source": [
      "Great, all set. Now Let's begin our first function. We create atoms at the bottom of the thruster and release electrons at the exit, which are two sides of the x-axis. The variable p here is the total number of particles we generated. The px9 matrix \"pp\" records the properties of each particles: [charge, mass, $v_x$, $v_r$, $v_\\theta$, x position, r position, $\\theta$ position, and note of that particle]. In the for loop, we spread the atoms and electrons only when the total number of particles is lower than 90% of its limit."
     ]
    },
    {
     "cell_type": "code",
     "collapsed": false,
     "input": [
      "def particle_generation():\n",
      "    global p\n",
      "    global pp\n",
      "    for theta in range (ntheta): #atom generation at the LHS wall\n",
      "        if p < pmax*0.9:\n",
      "            dp = 1 #generate atoms in each section\n",
      "            pp [p:p+dp,0] = 0\n",
      "            pp [p:p+dp,1] = ma\n",
      "            pp [p:p+dp,2] = v_initial[0]/2\n",
      "            pp [p:p+dp,3] = 0.\n",
      "            pp [p:p+dp,4] = 0.\n",
      "            pp [p:p+dp,5] = uniform(0,dx)\n",
      "            pp [p:p+dp,6] = uniform((Rout-Rin)/2+Rin,(Rout-Rin)/2+Rin+dr*2)\n",
      "            pp [p:p+dp,7] = uniform(theta*dtheta,dtheta+theta*dtheta)\n",
      "            p = p+dp #total particle number\n",
      "    for k in range (int(360/dtheta)):\n",
      "        if p < pmax*0.9:\n",
      "            dp = randint (2,3)\n",
      "            pp [p:p+dp,0] = e\n",
      "            pp [p:p+dp,1] = me\n",
      "            pp [p:p+dp,2] = -uniform(0.5*v_initial[0],v_initial[0])\n",
      "            pp [p:p+dp,3] = 0.\n",
      "            pp [p:p+dp,4] = 0.\n",
      "            pp [p:p+dp,7] = uniform(0,dtheta*ntheta)\n",
      "            pp [p:p+dp,6] = uniform((Rout-Rin)/2+Rin,(Rout-Rin)/2+Rin+dr*2)\n",
      "            pp [p:p+dp,5] = uniform(L/1.2-dx,L/1.2+dx)\n",
      "            p = p+dp #upgrade particle number"
     ],
     "language": "python",
     "metadata": {},
     "outputs": [],
     "prompt_number": 112
    },
    {
     "cell_type": "heading",
     "level": 3,
     "metadata": {},
     "source": [
      "Next function is written to set all the value of $\\theta$ back into the range of 0-360 degrees."
     ]
    },
    {
     "cell_type": "code",
     "collapsed": false,
     "input": [
      "def circle_error(): #reset theta when it is >2pi or <0\n",
      "    global pp\n",
      "    for k in range (p):\n",
      "        pp[k,7] = abs(pp[k,7])%360"
     ],
     "language": "python",
     "metadata": {},
     "outputs": [],
     "prompt_number": 113
    },
    {
     "cell_type": "heading",
     "level": 3,
     "metadata": {},
     "source": [
      "Next, an important part: the particle density. Remember, according to the grid diagram we discussed before, we know that the density value is located at grid points while particles are living in the space. Use the for loop, we find every particles and do a \"$n = n+1$\" for its cell. Not hard right?"
     ]
    },
    {
     "cell_type": "code",
     "collapsed": false,
     "input": [
      "def density(): #recalculate particle density at grid points\n",
      "    global p\n",
      "    global ni\n",
      "    global ne\n",
      "    global na\n",
      "    ni[:,:,:] = 0\n",
      "    ne[:,:,:] = 0\n",
      "    na[:,:,:] = 0\n",
      "    n_temp = numpy.zeros(3)\n",
      "    for k in range (p):\n",
      "        n_temp = [round(pp[k,5]/dx),round(pp[k,6]/dr),round(pp[k,7]/dtheta)%int(360/dtheta)]\n",
      "        if round(pp[k,6]/dr) >= nr:\n",
      "            n_temp[1] = nr-1\n",
      "        if round(pp[k,5]/dx) >= nx:\n",
      "            n_temp[0] = nx-1\n",
      "            \n",
      "        if pp[k,0] == -1*e:\n",
      "            ni[n_temp[0],n_temp[1],n_temp[2]] = ni[n_temp[0],n_temp[1],n_temp[2]]+1\n",
      "        if pp[k,0] == e:\n",
      "            ne[n_temp[0],n_temp[1],n_temp[2]] = ne[n_temp[0],n_temp[1],n_temp[2]]+1\n",
      "        if pp[k,0] == 0:\n",
      "            na[n_temp[0],n_temp[1],n_temp[2]] = na[n_temp[0],n_temp[1],n_temp[2]]+1"
     ],
     "language": "python",
     "metadata": {},
     "outputs": [],
     "prompt_number": 114
    },
    {
     "cell_type": "heading",
     "level": 3,
     "metadata": {},
     "source": [
      "Next, we are goint to find the distribution of E field which is the core of this notebook. Let's read my code first."
     ]
    },
    {
     "cell_type": "code",
     "collapsed": false,
     "input": [
      "def E_field(): #Apply particle-in-cell method\n",
      "    global phi\n",
      "    global phir\n",
      "    global phitheta\n",
      "    global phix\n",
      "    global E\n",
      "    global Er\n",
      "    global Etheta\n",
      "    global Ex\n",
      "    phi [:,:,:] = 0\n",
      "    phir [:,:,:] = 0\n",
      "    phitheta [:,:,:] = 0\n",
      "    phix [:,:,:] = 0\n",
      "    for i in range (1,nx):\n",
      "        for j in range (1,nr):\n",
      "            for k in range (1,ntheta):\n",
      "                phir[i,1:-1,k] = linalg.solve(-j*dr/dr*Ar-Ar2/2,(ni[i,1:-1,k]-ne[i,1:-1,k])*(-1*e)*(dr**2)/2)\n",
      "                phitheta[i,j,1:-1] = linalg.solve(-Atheta/dtheta,(ni[i,j,1:-1]-ne[i,j,1:-1])*(-1*e)*(dtheta*dr/2))\n",
      "                phix[1:-1,j,k] = linalg.solve(-Ax/dx,(ni[1:-1,j,k]-ne[1:-1,j,k])*(-1*e)*dx)\n",
      "                phi = phir+phitheta+phix\n",
      "                Er[i,1:-1,k] = (phir[i,2:,k]-phir[i,1:-1,k])/dr\n",
      "                Etheta[i,j,1:-1] = (phitheta[i,j,2:]-phitheta[i,j,1:-1])/dtheta\n",
      "                Ex[1:-1,j,k] = (phix[2:,j,k]-phix[1:-1,j,k])/dx\n",
      "                #set E at wall  = 0"
     ],
     "language": "python",
     "metadata": {},
     "outputs": [],
     "prompt_number": 115
    },
    {
     "cell_type": "heading",
     "level": 3,
     "metadata": {},
     "source": [
      "Same idea as how we found $\\phi$ in 2D eariler, now Gauss law is given by:"
     ]
    },
    {
     "cell_type": "heading",
     "level": 3,
     "metadata": {},
     "source": [
      "\\begin{equation}\n",
      "\\Sigma q_{r,\\theta,x} = d\\theta dx[-\\frac{r}{dr}A\\phi_{r,\\theta,x}-\\frac12(\\phi_{r+dr,\\theta,x}-\\phi_{r-dr,\\theta,x})]\\\n",
      "+\\frac{drdx}{rd\\theta}(A\\phi_{r,\\theta,x})+\\frac{2\\pi rdrd\\theta}{360dx}(A\\phi_{r,\\theta,x})\\\\\n",
      "\\end{equation}"
     ]
    },
    {
     "cell_type": "heading",
     "level": 3,
     "metadata": {},
     "source": [
      "where $A$ refers to the matrix $Ar$, $Ax$, and $Atheta$ we defined before, and Ar2 is for the term of $\\phi_{r+dr,\\theta,x}-\\phi_{r-dr,\\theta,x}$. After solving these components of $\\phi$, we can finally find $E$ using "
     ]
    },
    {
     "cell_type": "heading",
     "level": 3,
     "metadata": {},
     "source": [
      "\\begin{equation}\n",
      "E = \\nabla\\phi\\\\\n",
      "\\end{equation}"
     ]
    },
    {
     "cell_type": "heading",
     "level": 3,
     "metadata": {},
     "source": [
      "Then, we use Maxwell equations to find B:"
     ]
    },
    {
     "cell_type": "heading",
     "level": 3,
     "metadata": {},
     "source": [
      "\\begin{equation}\n",
      "\\nabla \\times \\mathbf{E}-\\frac{\\partial\\mathbf{B}}{\\partial t} = \\mathbf{0}\\\\\n",
      "\\end{equation}\n"
     ]
    },
    {
     "cell_type": "code",
     "collapsed": false,
     "input": [
      "def B_field(): #Apply particle-in-cell method\n",
      "    #recalculate B field\n",
      "    global B\n",
      "    global Bx\n",
      "    global Br\n",
      "    global Btheta\n",
      "    B[:,:,:] = 0\n",
      "    Bx[:,:,:] = 0\n",
      "    Br[:,:,:] = 0\n",
      "    Btheta[:,:,:] = 0\n",
      "    \n",
      "    Bx[1:-1,1:-1,1:-1] = Bx[1:-1,1:-1,1:-1]+dt*((Er[1:-1,1:-1,1:-1]-Er[1:-1,1:-1,:-2])/(r*dtheta)-\\\n",
      "                                               (Etheta[1:-1,1:-1,1:-1]-Etheta[1:-1,:-2,1:-1])/dr)\n",
      "    Br[1:-1,1:-1,1:-1] = Br[1:-1,1:-1,1:-1]+dt*((Etheta[1:-1,1:-1,1:-1]-Etheta[:-2,1:-1,1:-1])/dx-\\\n",
      "                                                (Ex[1:-1,1:-1,1:-1]-Ex[1:-1,1:-1,:-2])/(r*dtheta))\n",
      "    Btheta[1:-1,1:-1,1:-1] = Btheta[1:-1,1:-1,1:-1]+dt*((Ex[1:-1,1:-1,1:-1]-Ex[1:-1,:-2,1:-1])/dr-\\\n",
      "                                                       (Er[1:-1,1:-1,1:-1]-Er[:-2,1:-1,1:-1])/dx)\n",
      "    #Boundary conditions: since E at wall = 0, B at wall = 0\n",
      "    Br = Br+B_magnet"
     ],
     "language": "python",
     "metadata": {},
     "outputs": [],
     "prompt_number": 119
    },
    {
     "cell_type": "heading",
     "level": 3,
     "metadata": {},
     "source": [
      "Now, we have found both E field and B field. We are ready to move the particle using leapfrog method. We apply a $dt/2$ time step for the initial velocity. "
     ]
    },
    {
     "cell_type": "code",
     "collapsed": false,
     "input": [
      "def particle_movement(): #Use Leapfrog\n",
      "    global pp\n",
      "    v_temp = numpy.zeros (3) #a temporary variable of velocity vector\n",
      "    p_temp1 = numpy.zeros (3) #a temporary variable of position vector 1\n",
      "    p_temp2 = numpy.zeros (3) #a temporary variable of position vector 2\n",
      "    B_temp = numpy.zeros (3)\n",
      "    Eeff = numpy.zeros (3)\n",
      "    field = numpy.zeros (3)\n",
      "    for k in range (p):\n",
      "        v_temp = ([pp[k,2],pp[k,3],pp[k,4]])\n",
      "        p_temp = ([int(pp[k,5]/dx)+round(pp[k,5]%dx),int(pp[k,6]/dx)+round(pp[k,6]%dx),int(pp[k,7]/dx)+round(pp[k,7]%dx)])\n",
      "        if p_temp[0]+1 >= ntheta:\n",
      "            p_temp[0] = ntheta-2\n",
      "        if p_temp[0]-1 <= -1:\n",
      "            p_temp[0] = 1    \n",
      "        if p_temp[1] >= int(nr-1) and p_temp[1] < int(nr):\n",
      "            Eeff = [Ex[p_temp[0]+1,p_temp[1],p_temp[2]%int(360/dtheta)]+Ex[p_temp[0]-1,p_temp[1],p_temp[2]%int(360/dtheta)]\\\n",
      "                +0+Ex[p_temp[0],p_temp[1]-1,p_temp[2]%int(360/dtheta)]\\\n",
      "                +Ex[p_temp[0],p_temp[1],(p_temp[2]+1)%int(360/dtheta)]+\\\n",
      "                Ex[p_temp[0],p_temp[1],(p_temp[2]-1)%int(360/dtheta)],\\\n",
      "                Er[p_temp[0]+1,p_temp[1],p_temp[2]%int(360/dtheta)]+Er[p_temp[0]-1,p_temp[1],p_temp[2]%int(360/dtheta)]\\\n",
      "                +0+Er[p_temp[0],p_temp[1]-1,p_temp[2]%int(360/dtheta)]\\\n",
      "                +Er[p_temp[0],p_temp[1],(p_temp[2]+1)%int(360/dtheta)]+\\\n",
      "                Er[p_temp[0],p_temp[1],(p_temp[2]-1)%int(360/dtheta)],\\\n",
      "                Etheta[p_temp[0]+1,p_temp[1],p_temp[2]%int(360/dtheta)]+Etheta[p_temp[0]-1,p_temp[1],p_temp[2]%int\\\n",
      "                                                                               (360/dtheta)]\\\n",
      "                +0+Etheta[p_temp[0],p_temp[1]-1,p_temp[2]%int(360/dtheta)]\\\n",
      "                +Etheta[p_temp[0],p_temp[1],(p_temp[2]+1)%int(360/dtheta)]+\\\n",
      "                Etheta[p_temp[0],p_temp[1],(p_temp[2]-1)%int(360/dtheta)]]#seven point\n",
      "            \n",
      "        if p_temp[1] >= int(nr) :\n",
      "            Eeff = [0.,0.,0.] #E field at wall is zero for a matel wall hall thruster\n",
      "            B_temp = [0.,0.,0.] #B field at wall is set to zero\n",
      "        if p_temp[1] < int(nr-1):\n",
      "            Eeff = [Ex[p_temp[0]+1,p_temp[1],p_temp[2]%int(360/dtheta)]+Ex[p_temp[0]-1,p_temp[1],p_temp[2]%int(360/dtheta)]\\\n",
      "                +Ex[p_temp[0],p_temp[1]+1,p_temp[2]%int(360/dtheta)]+Ex[p_temp[0],p_temp[1]-1,p_temp[2]%int(360/dtheta)]\\\n",
      "                +Ex[p_temp[0],p_temp[1],(p_temp[2]+1)%int(360/dtheta)]+\\\n",
      "                Ex[p_temp[0],p_temp[1],(p_temp[2]-1)%int(360/dtheta)],\\\n",
      "                Er[p_temp[0]+1,p_temp[1],p_temp[2]%int(360/dtheta)]+Er[p_temp[0]-1,p_temp[1],p_temp[2]%int(360/dtheta)]\\\n",
      "                +Er[p_temp[0],p_temp[1]+1,p_temp[2]%int(360/dtheta)]+Er[p_temp[0],p_temp[1]-1,p_temp[2]%int(360/dtheta)]\\\n",
      "                +Er[p_temp[0],p_temp[1],(p_temp[2]+1)%int(360/dtheta)]+\\\n",
      "                Er[p_temp[0],p_temp[1],(p_temp[2]-1)%int(360/dtheta)],\\\n",
      "                Etheta[p_temp[0]+1,p_temp[1],p_temp[2]%int(360/dtheta)]+Etheta[p_temp[0]-1,p_temp[1],p_temp[2]%int\\\n",
      "                                                                               360/dtheta)]\\\n",
      "                +Etheta[p_temp[0],p_temp[1]+1,p_temp[2]%int(360/dtheta)]+Etheta[p_temp[0],p_temp[1]-1,p_temp[2]%int\\\n",
      "                                                                                (360/dtheta)]\\\n",
      "                +Etheta[p_temp[0],p_temp[1],(p_temp[2]+1)%int(360/dtheta)]+\\\n",
      "                Etheta[p_temp[0],p_temp[1],(p_temp[2]-1)%int(360/dtheta)]]#seven point\n",
      "        if p_temp[1] <= int(nr-1):\n",
      "            B_temp = [Bx[p_temp[0],p_temp[1],p_temp[2]%int(360/dtheta)],\\\n",
      "                      Br[p_temp[0],p_temp[1],p_temp[2]%int(360/dtheta)],Btheta\\\n",
      "                        [p_temp[0],p_temp[1],p_temp[2]%int(360/dtheta)]]\n",
      "        field = Eeff+cross(v_temp,B_temp)\n",
      "        if pp[k,8] != 0:\n",
      "            v_temp[0] = pp[k,0]/pp[k,1]*dt*field[0]+v_temp[0]\n",
      "            v_temp[1] = pp[k,0]/pp[k,1]*dt*field[1]+v_temp[1]\n",
      "            v_temp[2] = pp[k,0]/pp[k,1]*dt*field[2]+v_temp[2]\n",
      "        if pp[k,8] == 0: #leapfrog: velocity gets a half time step advance at the begining\n",
      "            v_temp[0] = pp[k,0]/pp[k,1]*dt/2*field[0]+v_temp[0]\n",
      "            v_temp[1] = pp[k,0]/pp[k,1]*dt/2*field[1]+v_temp[1]\n",
      "            v_temp[2] = pp[k,0]/pp[k,1]*dt/2*field[2]+v_temp[2]\n",
      "            pp[k,8] = 1\n",
      "        pp[k,5] = pp[k,5]+v_temp[0]*dt\n",
      "        pp[k,6] = pp[k,6]+v_temp[1]*dt\n",
      "        pp[k,7] = pp[k,7]+v_temp[2]*dt\n",
      "        pp[k,7] = abs(pp[k,7])%360\n",
      "        pp[k,2] = v_temp[0].copy()\n",
      "        pp[k,3] = v_temp[1].copy()\n",
      "        pp[k,4] = v_temp[2].copy()"
     ],
     "language": "python",
     "metadata": {},
     "outputs": [],
     "prompt_number": 120
    },
    {
     "cell_type": "heading",
     "level": 3,
     "metadata": {},
     "source": [
      "So, the particles are moved. We also need to remove all the particles which are moved to where they cannot reach, such as wall and out of the grid. Thus we need a for loop to check all the particles and using a remove function to delete some particles. Note that this is a simplified simulation. We ignore all the close wall effects. Moreover, The mechanism of rearrange the stack of pp is a little bit tricky."
     ]
    },
    {
     "cell_type": "code",
     "collapsed": false,
     "input": [
      "def remove_particle():\n",
      "    global pp\n",
      "    global p\n",
      "    global premove\n",
      "    for k in range (p):\n",
      "        if pp[k,8] > 1 or pp[k,1] == 0:\n",
      "            for l in range (k+1,p):\n",
      "                if pp[l,1] != 0 and pp[l,8] <= 1:\n",
      "                    pp[k,:] = pp[l,:].copy() #replace the particle with the particle after it\n",
      "                    pp[l,:] = [0.,0.,0.,0.,0.,0.,0.,0.,0.]\n",
      "                    break\n",
      "    premove = 0\n",
      "    for k in range (p):\n",
      "        if pp[k,1] != 0:\n",
      "                premove = premove+1\n",
      "\n",
      "def particle_at_boundary(): #ignore plasma sheath and second electron emission when particles hit on wall\n",
      "    global p\n",
      "    global pp\n",
      "    global premove\n",
      "    premove = p\n",
      "    for k in range (p):\n",
      "        x = pp[k,5].copy()\n",
      "        r = pp[k,6].copy()\n",
      "        #print k, x\n",
      "        if x <= 0: \n",
      "            #print \"check\", k\n",
      "            pp[k,8] = 2 #mark for remove\n",
      "        if x >= L:\n",
      "            #print \"check\", k\n",
      "            pp[k,8] = 2\n",
      "        if r <= Rin:\n",
      "            #print \"check\", k\n",
      "            pp[k,8] = 2\n",
      "        if r >= Rout:\n",
      "            #print \"check\", k\n",
      "            pp[k,8] = 2\n",
      "    remove_particle()\n",
      "    p = premove"
     ],
     "language": "python",
     "metadata": {},
     "outputs": [],
     "prompt_number": 121
    },
    {
     "cell_type": "heading",
     "level": 3,
     "metadata": {},
     "source": [
      "Okay, so far so good. In order to ionize the atoms and get ions, we have to make a judgement of collision when two particles are close to each other. In actual cases, we have lots of different types of collistions. For example, electron to atom which can ionze the atom, atom with atom, ion with atom, ion with electron, etc. For this simplified model, we only consider the ionization collision. Further more, Monte Carlo method is applied to decide the velocity of the particles after their collision."
     ]
    },
    {
     "cell_type": "code",
     "collapsed": false,
     "input": [
      "def collision(): \n",
      "    #simplfied model, consider only the ionization of electrons and atoms; and the recombination of electrons and ions\n",
      "    #ignore recombination\n",
      "    #ignore the charge exchange cases and random the velocities after the collisions\n",
      "    #assume elastic collision\n",
      "    global pp\n",
      "    for k in range (p-1):\n",
      "        for l in range (p-1):\n",
      "            if sqrt(pp[k,6]**2+pp[l,6]**2-2*pp[k,6]*pp[l,6]*cos(abs(pp[k,7]-pp[l,7])/360*2*PI)+(pp[k,5]-pp[l,5])**2) \\\n",
      "            <= sigma:\n",
      "                propability = randint(0,100)\n",
      "                if pp[k,0] + pp[l,0] == e: #electron and atom\n",
      "                    if propability > ri: #elastic collision\n",
      "                        elastic_collision(k,l)\n",
      "                    elif propability <= ri: #ionization\n",
      "                        ionization(k,l)                    \n",
      "\n",
      "def elastic_collision(k,l):\n",
      "    global pp\n",
      "    pp[k,2] = uniform(0.95*pp[k,2],pp[k,2])*(-1)**(randint(0,3))\n",
      "    pp[k,3] = uniform(0.95*pp[k,3],pp[k,3])*(-1)**(randint(0,3))\n",
      "    pp[k,4] = uniform(0.95*pp[k,4],pp[k,4])*(-1)**(randint(0,3))\n",
      "    pp[l,2] = uniform(0.95*pp[l,2],pp[k,2])*(-1)**(randint(0,3))\n",
      "    pp[l,3] = uniform(0.95*pp[l,3],pp[k,3])*(-1)**(randint(0,3))\n",
      "    pp[l,4] = uniform(0.95*pp[l,4],pp[k,4])*(-1)**(randint(0,3))\n",
      "    \n",
      "def ionization(k,l):\n",
      "    global pp\n",
      "    global p\n",
      "    pp[k,0] = e\n",
      "    pp[l,0] = -e\n",
      "    pp[p,0] = e\n",
      "    pp[k,1] = me\n",
      "    pp[l,1] = mi\n",
      "    pp[p,1] = me\n",
      "    pp[p,5] = pp[k,5].copy()\n",
      "    pp[p,6] = pp[k,6].copy()\n",
      "    pp[k,7] = abs(pp[k,7])%360\n",
      "    pp[p,7] = pp[k,7].copy()\n",
      "    pp[k,2] = uniform(0.3*pp[k,2],0.8*pp[k,2])*(-1)**(randint(0,3))\n",
      "    pp[k,3] = uniform(0.3*pp[k,2],0.8*pp[k,2])*(-1)**(randint(0,3))\n",
      "    pp[k,4] = uniform(0.3*pp[k,2],0.8*pp[k,2])*(-1)**(randint(0,3))\n",
      "    pp[l,2] = uniform(0.95*v_initial[0],v_initial[0])\n",
      "    pp[l,3] = 0.\n",
      "    pp[l,4] = 0.\n",
      "    pp[p,2] = uniform(0.3*pp[k,2],0.8*pp[k,2])*(-1)**(randint(0,3))\n",
      "    pp[p,3] = uniform(0.3*pp[k,2],0.8*pp[k,2])*(-1)**(randint(0,3))\n",
      "    pp[p,4] = uniform(0.3*pp[k,2],0.8*pp[k,2])*(-1)**(randint(0,3)) \n",
      "    p = p+1"
     ],
     "language": "python",
     "metadata": {},
     "outputs": [],
     "prompt_number": 122
    },
    {
     "cell_type": "heading",
     "level": 3,
     "metadata": {},
     "source": [
      "Finally, we completed all the functions we need. Next, the last part of this program is the main body of it."
     ]
    },
    {
     "cell_type": "code",
     "collapsed": false,
     "input": [
      "#Main body:\n",
      "pe = 0\n",
      "pi = 0\n",
      "pa = 0\n",
      "for n in range (nt):\n",
      "    particle_generation()\n",
      "    pe = 0\n",
      "    pi = 0\n",
      "    pa = 0\n",
      "    print \"p = \", p\n",
      "    particle_at_boundary()\n",
      "    fig = plt.figure(figsize=(15,10))\n",
      "    ax = fig.add_subplot(111, projection='3d')\n",
      "    ax.set_xlim(-0.05,0.4)\n",
      "    ax.set_ylim(-0.2,0.2)\n",
      "    ax.set_zlim(-0.2,0.2)\n",
      "    ax.set_xlabel('X-[m]')\n",
      "    ax.set_ylabel('Y-[m]')\n",
      "    ax.set_zlabel('Z-[m]')\n",
      "    for k in range (p):\n",
      "        pp[k,7] = abs(pp[k,7])%360\n",
      "        if pp[k,0] == e and pp[k,1] != 0:\n",
      "            ax.scatter(pp[k,5],pp[k,6]*cos(pp[k,7]/360.*2.*PI),pp[k,6]*sin(pp[k,7]/360.*2.*PI), c='r', marker='o')\n",
      "            pe = pe+1\n",
      "        if pp[k,0] == -e and pp[k,1] != 0:\n",
      "            ax.scatter(pp[k,5],pp[k,6]*cos(pp[k,7]/360.*2.*PI),pp[k,6]*sin(pp[k,7]/360.*2.*PI), c='b', marker='o')\n",
      "            pi = pi+1\n",
      "        if pp[k,0] == 0 and pp[k,1] != 0:\n",
      "            ax.scatter(pp[k,5],pp[k,6]*cos(pp[k,7]/360.*2.*PI),pp[k,6]*sin(pp[k,7]/360.*2.*PI), c='g', marker='x')\n",
      "            pa = pa+1\n",
      "    plt.show()\n",
      "    print \"pe,pi,pa = \",pe,pi,pa\n",
      "    particle_at_boundary()\n",
      "    density()\n",
      "    E_field()\n",
      "    B_field()\n",
      "    particle_movement()\n",
      "    circle_error()\n",
      "    particle_at_boundary()\n",
      "    collision()"
     ],
     "language": "python",
     "metadata": {},
     "outputs": []
    },
    {
     "cell_type": "heading",
     "level": 3,
     "metadata": {},
     "source": [
      "We just went through the code, and learned an example about how to apply leapfrg in cylindrical coordinates and solve Poisson equation in that case. What about the results of this program? What does the trajectory look like? Unfortunately, since the calculations are too complex, Wakari system needs a few seconds to minutes (depends on the total particle number) to complete one time step, it is impossible to show the result with python animation code. Thus, my output of this program is a set of 3D scatter diagrams, and I put them together as gif animations which are shown bellow."
     ]
    },
    {
     "cell_type": "code",
     "collapsed": false,
     "input": [
      "Embed = Image(url = 'https://github.com/LiLinGitHub/FinalProjectFiles/blob/master/HallThrusterSim.gif')"
     ],
     "language": "python",
     "metadata": {},
     "outputs": [],
     "prompt_number": 15
    },
    {
     "cell_type": "heading",
     "level": 3,
     "metadata": {},
     "source": [
      "The green crosses are atoms, red dots are electrons, and blue dots are ions. It is clear that when atoms are passing through the electrons, ions are generated. We can also adjust the position of magnets and see what happen. Let's try to move the magnet closer to the exit."
     ]
    },
    {
     "cell_type": "code",
     "collapsed": false,
     "input": [
      "Embed = Image(url = 'https://github.com/LiLinGitHub/FinalProjectFiles/blob/master/HallThrusterSim2.gif')"
     ],
     "language": "python",
     "metadata": {},
     "outputs": [],
     "prompt_number": 16
    },
    {
     "cell_type": "heading",
     "level": 3,
     "metadata": {},
     "source": [
      "And make the magnet thinner..."
     ]
    },
    {
     "cell_type": "code",
     "collapsed": false,
     "input": [
      "Embed = Image(url = 'https://github.com/LiLinGitHub/FinalProjectFiles/blob/master/HallThrusterSim3.gif')"
     ],
     "language": "python",
     "metadata": {},
     "outputs": [],
     "prompt_number": 18
    },
    {
     "cell_type": "heading",
     "level": 3,
     "metadata": {},
     "source": [
      "What do you think about these two results? One interesting phenomena is that when the B field area is smaller and closer to the exit, more electrons are able to excape from the magnets and ionize the atoms at the area between the bottom and the B field. "
     ]
    },
    {
     "cell_type": "heading",
     "level": 2,
     "metadata": {},
     "source": [
      "Reference"
     ]
    },
    {
     "cell_type": "heading",
     "level": 3,
     "metadata": {},
     "source": [
      "[1] C. K. Birdsall. and A. B. Langdon. \"Plasma physics via computer simulation,\" NY: Taylor & Francis Group, 2005"
     ]
    },
    {
     "cell_type": "heading",
     "level": 3,
     "metadata": {},
     "source": [
      "[2] A. Taflove. and S. Hagness. \"Computational elecgtrodynamics, the finite difference time domain method,\" 2nd ed. MA: Artech House, 2000"
     ]
    },
    {
     "cell_type": "heading",
     "level": 3,
     "metadata": {},
     "source": [
      "[3]M. Keidar. and I. I. Beilis. \"Plasma engineering, applications from aerospace to bio- and nanotechnology,\" Lodon: Elsevier, 2013"
     ]
    },
    {
     "cell_type": "code",
     "collapsed": false,
     "input": [
      "from IPython.core.display import HTML\n",
      "css_file = '../../styles/numericalmoocstyle.css'\n",
      "HTML(open(css_file, \"r\").read())\n"
     ],
     "language": "python",
     "metadata": {},
     "outputs": [
      {
       "ename": "IOError",
       "evalue": "[Errno 2] No such file or directory: '../../styles/numericalmoocstyle.css'",
       "output_type": "pyerr",
       "traceback": [
        "\u001b[1;31m---------------------------------------------------------------------------\u001b[0m\n\u001b[1;31mIOError\u001b[0m                                   Traceback (most recent call last)",
        "\u001b[1;32m<ipython-input-1-fde599084f9c>\u001b[0m in \u001b[0;36m<module>\u001b[1;34m()\u001b[0m\n\u001b[0;32m      1\u001b[0m \u001b[1;32mfrom\u001b[0m \u001b[0mIPython\u001b[0m\u001b[1;33m.\u001b[0m\u001b[0mcore\u001b[0m\u001b[1;33m.\u001b[0m\u001b[0mdisplay\u001b[0m \u001b[1;32mimport\u001b[0m \u001b[0mHTML\u001b[0m\u001b[1;33m\u001b[0m\u001b[0m\n\u001b[0;32m      2\u001b[0m \u001b[0mcss_file\u001b[0m \u001b[1;33m=\u001b[0m \u001b[1;34m'../../styles/numericalmoocstyle.css'\u001b[0m\u001b[1;33m\u001b[0m\u001b[0m\n\u001b[1;32m----> 3\u001b[1;33m \u001b[0mHTML\u001b[0m\u001b[1;33m(\u001b[0m\u001b[0mopen\u001b[0m\u001b[1;33m(\u001b[0m\u001b[0mcss_file\u001b[0m\u001b[1;33m,\u001b[0m \u001b[1;34m\"r\"\u001b[0m\u001b[1;33m)\u001b[0m\u001b[1;33m.\u001b[0m\u001b[0mread\u001b[0m\u001b[1;33m(\u001b[0m\u001b[1;33m)\u001b[0m\u001b[1;33m)\u001b[0m\u001b[1;33m\u001b[0m\u001b[0m\n\u001b[0m",
        "\u001b[1;31mIOError\u001b[0m: [Errno 2] No such file or directory: '../../styles/numericalmoocstyle.css'"
       ]
      }
     ],
     "prompt_number": 1
    }
   ],
   "metadata": {}
  }
 ]
}